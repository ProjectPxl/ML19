{
 "cells": [
  {
   "cell_type": "markdown",
   "metadata": {},
   "source": [
    "# Homework #1 "
   ]
  },
  {
   "cell_type": "code",
   "execution_count": 1,
   "metadata": {},
   "outputs": [],
   "source": [
    "import numpy as np\n",
    "import pandas as pd\n",
    "import matplotlib.pyplot as plt\n",
    "import seaborn as sns\n",
    "sns.set(style=\"ticks\", color_codes=True)\n",
    "%matplotlib inline\n",
    "\n",
    "df = pd.read_fwf(\"./auto-mpg.data\", header=None)\n",
    "df = df[( df[3]!='?' )]\n",
    "df.columns = ['mpg', 'cylinders', 'displacement', 'hp', 'weight', 'acceleration', 'year','origin', 'name']"
   ]
  },
  {
   "cell_type": "markdown",
   "metadata": {},
   "source": [
    "## Problem 1"
   ]
  },
  {
   "cell_type": "code",
   "execution_count": 2,
   "metadata": {},
   "outputs": [],
   "source": [
    "groups = np.array_split(df.sort_values(by=\"mpg\"), 4)\n",
    "groups[0]['color'] = \"green\"\n",
    "groups[1]['color'] = \"yellow\"\n",
    "groups[2]['color'] = \"red\"\n",
    "groups[3]['color'] = \"black\"\n",
    "df = pd.concat(groups)"
   ]
  },
  {
   "cell_type": "markdown",
   "metadata": {},
   "source": [
    "## Problem 2"
   ]
  },
  {
   "cell_type": "code",
   "execution_count": 3,
   "metadata": {},
   "outputs": [],
   "source": [
    "# sns.pairplot(df, hue=\"color\", diag_kind=\"hist\", palette=\"husl\", vars=['cylinders', 'displacement', 'hp', 'weight', 'acceleration', 'year','origin'])\n",
    "# s2=sns.pairplot(df, vars=['cylinders', 'displacement', 'hp', 'weight', 'acceleration', 'year','origin'])\n"
   ]
  },
  {
   "cell_type": "markdown",
   "metadata": {},
   "source": [
    "## Problem 3"
   ]
  },
  {
   "cell_type": "code",
   "execution_count": 4,
   "metadata": {},
   "outputs": [],
   "source": [
    "# from sklearn.datasets import load_boston\n",
    "# from statsmodels.regression.linear_model import OLS\n",
    "from numpy.linalg import inv\n",
    "\n",
    "def lin_reg_single_var( x, n, y=df['mpg'] ):\n",
    "    if len(x) != len(y):\n",
    "        return \"The dimensions of X and Y don't match!\"\n",
    "    \n",
    "    X = None\n",
    "    Y = np.array([y])\n",
    "    ones = np.ones(shape=y.shape)[..., None]\n",
    "    base = np.array([x]).transpose()\n",
    "    \n",
    "    if n == 0:\n",
    "        X = ones\n",
    "    else:\n",
    "        cols = base\n",
    "        for i in range(2, n+1):\n",
    "            cols = np.concatenate((cols, base**i), 1)\n",
    "        X = np.concatenate((ones, cols), 1)\n",
    "\n",
    "    return inv(np.transpose(X).dot(X)).dot(np.transpose(X)).dot(y)"
   ]
  },
  {
   "cell_type": "code",
   "execution_count": 5,
   "metadata": {},
   "outputs": [
    {
     "data": {
      "text/plain": [
       "array([50.51539255, -6.38334359,  0.23930393])"
      ]
     },
     "execution_count": 5,
     "metadata": {},
     "output_type": "execute_result"
    }
   ],
   "source": [
    "lin_reg_single_var(df['cylinders'], 2)"
   ]
  },
  {
   "cell_type": "code",
   "execution_count": null,
   "metadata": {},
   "outputs": [],
   "source": []
  }
 ],
 "metadata": {
  "kernelspec": {
   "display_name": "Python 3",
   "language": "python",
   "name": "python3"
  },
  "language_info": {
   "codemirror_mode": {
    "name": "ipython",
    "version": 3
   },
   "file_extension": ".py",
   "mimetype": "text/x-python",
   "name": "python",
   "nbconvert_exporter": "python",
   "pygments_lexer": "ipython3",
   "version": "3.7.4"
  }
 },
 "nbformat": 4,
 "nbformat_minor": 2
}
