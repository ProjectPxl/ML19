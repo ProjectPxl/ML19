{
 "cells": [
  {
   "cell_type": "markdown",
   "metadata": {},
   "source": [
    "# Homework #1 "
   ]
  },
  {
   "cell_type": "code",
   "execution_count": 166,
   "metadata": {},
   "outputs": [],
   "source": [
    "import numpy as np\n",
    "import pandas as pd\n",
    "import matplotlib.pyplot as plt\n",
    "import seaborn as sns\n",
    "sns.set(style=\"ticks\", color_codes=True)\n",
    "%matplotlib inline\n",
    "\n",
    "df = pd.read_fwf(\"./auto-mpg.data\", header=None)\n",
    "df = df[( df[3]!='?' )]\n",
    "df.columns = ['mpg', 'cylinders', 'displacement', 'hp', 'weight', 'acceleration', 'year','origin', 'name']"
   ]
  },
  {
   "cell_type": "markdown",
   "metadata": {},
   "source": [
    "## Problem 1"
   ]
  },
  {
   "cell_type": "code",
   "execution_count": 169,
   "metadata": {},
   "outputs": [],
   "source": [
    "groups = np.array_split(df.sort_values(by=\"mpg\"), 4)\n",
    "groups[0]['color'] = \"green\"\n",
    "groups[1]['color'] = \"yellow\"\n",
    "groups[2]['color'] = \"red\"\n",
    "groups[3]['color'] = \"black\"\n",
    "df = pd.concat(groups)"
   ]
  },
  {
   "cell_type": "markdown",
   "metadata": {},
   "source": [
    "## Problem 2"
   ]
  },
  {
   "cell_type": "code",
   "execution_count": 3,
   "metadata": {},
   "outputs": [],
   "source": [
    "# sns.pairplot(df, hue=\"color\", diag_kind=\"hist\", palette=\"husl\", vars=['cylinders', 'displacement', 'hp', 'weight', 'acceleration', 'year','origin'])\n",
    "# s2=sns.pairplot(df, vars=['cylinders', 'displacement', 'hp', 'weight', 'acceleration', 'year','origin'])\n"
   ]
  },
  {
   "cell_type": "markdown",
   "metadata": {},
   "source": [
    "## Problem 3"
   ]
  },
  {
   "cell_type": "code",
   "execution_count": 209,
   "metadata": {},
   "outputs": [],
   "source": [
    "# from sklearn.datasets import load_boston\n",
    "# from statsmodels.regression.linear_model import OLS\n",
    "from numpy.linalg import inv\n",
    "\n",
    "def lin_reg_single_var( x, n, y=df['mpg'] ):\n",
    "    if len(x) != len(y):\n",
    "        return \"The dimensions of X and Y don't match!\"\n",
    "    \n",
    "    X = None\n",
    "    Y = np.array([y])\n",
    "    ones = np.ones(shape=y.shape)[..., None]\n",
    "    base = np.array([x]).astype(np.float).transpose() #turn \"hp\" into char. why?\n",
    "\n",
    "    if n == 0:\n",
    "        X = ones\n",
    "    else:\n",
    "        cols = base\n",
    "        for i in range(2, n+1):\n",
    "            cols = np.concatenate((cols, base**i), 1)\n",
    "        X = np.concatenate((ones, cols), 1)\n",
    "\n",
    "    return inv(np.transpose(X).dot(X)).dot(np.transpose(X)).dot(y)"
   ]
  },
  {
   "cell_type": "markdown",
   "metadata": {},
   "source": [
    "## Problem 4"
   ]
  },
  {
   "cell_type": "code",
   "execution_count": 156,
   "metadata": {},
   "outputs": [],
   "source": [
    "from sklearn.model_selection import train_test_split\n",
    "x_data = df.drop(columns=[\"mpg\",\"name\", \"color\"])\n",
    "y_data = df[\"mpg\"]\n",
    "X_train, X_test, y_train, y_test = train_test_split(x_data, y_data, test_size=100, random_state=42, shuffle=1)"
   ]
  },
  {
   "cell_type": "code",
   "execution_count": 273,
   "metadata": {},
   "outputs": [
    {
     "data": {
      "text/plain": [
       "[[array([23.76]),\n",
       "  array([42.87, -3.55]),\n",
       "  array([48.76, -5.74,  0.19]),\n",
       "  array([-127.55,   92.17,  -17.18,    0.99])],\n",
       " [array([23.76]),\n",
       "  array([35.16, -0.06]),\n",
       "  array([41.76, -0.14,  0.  ]),\n",
       "  array([43.35, -0.16,  0.  , -0.  ])],\n",
       " [array([23.76]),\n",
       "  array([40.58, -0.16]),\n",
       "  array([57.33, -0.47,  0.  ]),\n",
       "  array([65.36, -0.69,  0.  , -0.  ])],\n",
       " [array([23.76]),\n",
       "  array([ 4.643e+01, -1.000e-02]),\n",
       "  array([ 6.274e+01, -2.000e-02,  0.000e+00]),\n",
       "  array([ 6.379e+01, -2.000e-02,  0.000e+00, -0.000e+00])],\n",
       " [array([23.76]),\n",
       "  array([5.75, 1.16]),\n",
       "  array([-32.7 ,   6.11,  -0.15]),\n",
       "  array([-37.05,   6.96,  -0.21,   0.  ])],\n",
       " [array([23.76]),\n",
       "  array([-64.12,   1.15]),\n",
       "  array([ 6.2504e+02, -1.6990e+01,  1.2000e-01]),\n",
       "  array([ 4.54014e+03, -1.71860e+02,  2.16000e+00, -1.00000e-02])],\n",
       " [array([23.76]),\n",
       "  array([14.91,  5.45]),\n",
       "  array([ 9.28, 12.73, -1.87]),\n",
       "  array([  4.47,  60.98, -19.33,   2.69])]]"
      ]
     },
     "execution_count": 273,
     "metadata": {},
     "output_type": "execute_result"
    }
   ],
   "source": [
    "def feature_regress():\n",
    "    w = []\n",
    "    for feature in X_train:\n",
    "        row = []\n",
    "        for i in range(0,4):\n",
    "            row.append( lin_reg_single_var(X_train[feature], i, y_train).round(2) )\n",
    "\n",
    "            \n",
    "            lin_reg_single_var(X_train[feature], i, y_train).round(2)\n",
    "            \n",
    "            \n",
    "            \n",
    "        w.append(row)\n",
    "    return w\n",
    "feature_regress()"
   ]
  }
 ],
 "metadata": {
  "kernelspec": {
   "display_name": "Python 3",
   "language": "python",
   "name": "python3"
  },
  "language_info": {
   "codemirror_mode": {
    "name": "ipython",
    "version": 3
   },
   "file_extension": ".py",
   "mimetype": "text/x-python",
   "name": "python",
   "nbconvert_exporter": "python",
   "pygments_lexer": "ipython3",
   "version": "3.7.4"
  }
 },
 "nbformat": 4,
 "nbformat_minor": 2
}
