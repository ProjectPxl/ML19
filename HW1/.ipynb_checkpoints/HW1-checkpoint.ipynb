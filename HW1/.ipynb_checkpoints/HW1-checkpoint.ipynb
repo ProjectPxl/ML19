{
 "cells": [
  {
   "cell_type": "markdown",
   "metadata": {},
   "source": [
    "# Homework #1 "
   ]
  },
  {
   "cell_type": "code",
   "execution_count": 1,
   "metadata": {},
   "outputs": [],
   "source": [
    "import numpy as np\n",
    "import pandas as pd\n",
    "import matplotlib.pyplot as plt\n",
    "import seaborn as sns\n",
    "sns.set(style=\"ticks\", color_codes=True)\n",
    "%matplotlib inline\n",
    "\n",
    "df = pd.read_fwf(\"./auto-mpg.data\", header=None)\n",
    "df = df[( df[3]!='?' )]\n",
    "df.columns = ['mpg', 'cylinders', 'displacement', 'hp', 'weight', 'acceleration', 'year','origin', 'name']"
   ]
  },
  {
   "cell_type": "markdown",
   "metadata": {},
   "source": [
    "## Problem 1"
   ]
  },
  {
   "cell_type": "code",
   "execution_count": 2,
   "metadata": {},
   "outputs": [],
   "source": [
    "groups = np.array_split(df.sort_values(by=\"mpg\"), 4)\n",
    "groups[0]['color'] = \"green\"\n",
    "groups[1]['color'] = \"yellow\"\n",
    "groups[2]['color'] = \"red\"\n",
    "groups[3]['color'] = \"black\"\n",
    "df = pd.concat(groups)"
   ]
  },
  {
   "cell_type": "markdown",
   "metadata": {},
   "source": [
    "## Problem 2"
   ]
  },
  {
   "cell_type": "code",
   "execution_count": 3,
   "metadata": {},
   "outputs": [],
   "source": [
    "# sns.pairplot(df, hue=\"color\", diag_kind=\"hist\", palette=\"husl\", vars=['cylinders', 'displacement', 'hp', 'weight', 'acceleration', 'year','origin'])\n",
    "# s2=sns.pairplot(df, vars=['cylinders', 'displacement', 'hp', 'weight', 'acceleration', 'year','origin'])\n"
   ]
  },
  {
   "cell_type": "markdown",
   "metadata": {},
   "source": [
    "## Problem 3"
   ]
  },
  {
   "cell_type": "code",
   "execution_count": 4,
   "metadata": {},
   "outputs": [],
   "source": [
    "# from sklearn.datasets import load_boston\n",
    "# from statsmodels.regression.linear_model import OLS\n",
    "from numpy.linalg import inv\n",
    "\n",
    "def lin_reg_single_var( x, n, y=df['mpg'] ):\n",
    "    if len(x) != len(y):\n",
    "        return \"The dimensions of X and Y don't match!\"\n",
    "    \n",
    "    X = None\n",
    "    Y = np.array([y])\n",
    "    ones = np.ones(shape=y.shape)[..., None]\n",
    "    base = np.array([x]).astype(np.float).transpose() #turn \"hp\" into char. why?\n",
    "\n",
    "    if n == 0:\n",
    "        X = ones\n",
    "    else:\n",
    "        cols = base\n",
    "        for i in range(2, n+1):\n",
    "            cols = np.concatenate((cols, base**i), 1)\n",
    "        X = np.concatenate((ones, cols), 1)\n",
    "\n",
    "    return inv(np.transpose(X).dot(X)).dot(np.transpose(X)).dot(y)"
   ]
  },
  {
   "cell_type": "markdown",
   "metadata": {},
   "source": [
    "## Problem 4"
   ]
  },
  {
   "cell_type": "code",
   "execution_count": 5,
   "metadata": {},
   "outputs": [],
   "source": [
    "from sklearn.model_selection import train_test_split\n",
    "x_data = df.drop(columns=[\"mpg\",\"name\", \"color\"])\n",
    "y_data = df[\"mpg\"]\n",
    "X_train, X_test, y_train, y_test = train_test_split(x_data, y_data, test_size=100, random_state=42, shuffle=1)"
   ]
  },
  {
   "cell_type": "code",
   "execution_count": 8,
   "metadata": {},
   "outputs": [],
   "source": [
    "def feature_regress():\n",
    "    w = []\n",
    "    for feature in X_train:\n",
    "        row = []\n",
    "        for i in range(0,4):\n",
    "            row.append( lin_reg_single_var(X_train[feature], i, y_train).round(2) )\n",
    "            lin_reg_single_var(X_train[feature], i, y_train).round(2)\n",
    "        w.append(row)\n",
    "#     return w\n",
    "feature_regress()"
   ]
  },
  {
   "cell_type": "code",
   "execution_count": 46,
   "metadata": {},
   "outputs": [
    {
     "data": {
      "text/plain": [
       "[<matplotlib.lines.Line2D at 0x124b66c90>,\n",
       " <matplotlib.lines.Line2D at 0x124b66e90>]"
      ]
     },
     "execution_count": 46,
     "metadata": {},
     "output_type": "execute_result"
    },
    {
     "data": {
      "image/png": "[encoded data removed]",
      "text/plain": [
       "<Figure size 432x288 with 1 Axes>"
      ]
     },
     "metadata": {
      "needs_background": "light"
     },
     "output_type": "display_data"
    }
   ],
   "source": [
    "x = np.linspace(0,100)\n",
    "y = 1 + 2x\n",
    "z = 5*x\n",
    "plt.plot(x, y, z,'-r', label='y=2x+1')"
   ]
  },
  {
   "cell_type": "code",
   "execution_count": null,
   "metadata": {},
   "outputs": [],
   "source": [
    " figure(1);\n",
    " stem(x); hold on; plot(x); grid;\n",
    " \n",
    " figure(2);\n",
    " for k=1:8\n",
    "     subplot(8,1,k);\n",
    "     stem(U(:,k)); axis([0 9 -0.5 0.5]); axis off; hold on;\n",
    " end\n",
    " for k=1:8\n",
    "     subplot(8,1,k);\n",
    "     plot(U(:,k));\n",
    " end"
   ]
  }
 ],
 "metadata": {
  "kernelspec": {
   "display_name": "Python 3",
   "language": "python",
   "name": "python3"
  },
  "language_info": {
   "codemirror_mode": {
    "name": "ipython",
    "version": 3
   },
   "file_extension": ".py",
   "mimetype": "text/x-python",
   "name": "python",
   "nbconvert_exporter": "python",
   "pygments_lexer": "ipython3",
   "version": "3.7.4"
  }
 },
 "nbformat": 4,
 "nbformat_minor": 2
}
